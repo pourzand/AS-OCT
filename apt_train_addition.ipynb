{
 "cells": [
  {
   "cell_type": "code",
   "execution_count": 7,
   "metadata": {},
   "outputs": [],
   "source": [
    "import os\n",
    "\n",
    "# Function to get all files in a folder\n",
    "def get_files_in_folder(folder_path):\n",
    "    return [f for f in os.listdir(folder_path) if os.path.isfile(os.path.join(folder_path, f))]\n",
    "\n",
    "def get_base_filename(file_name):\n",
    "    return file_name.replace(\".png_0000.nii.gz\", \"\")\n",
    "\n",
    "# Function to add entries to the spreadsheet\n",
    "def add_entries(folder_path, spreadsheet_path):\n",
    "    # Get existing entries\n",
    "    with open(spreadsheet_path, 'r') as file:\n",
    "        entries = file.readlines()\n",
    "\n",
    "    # Find the last entry to get the starting index\n",
    "    last_entry = entries[-1].split('\\t')\n",
    "    # start_index = int(last_entry[0][0]) + 1\n",
    "    start_index = 53\n",
    "\n",
    "\n",
    "    # Get all files in the folder\n",
    "    files = get_files_in_folder(folder_path)\n",
    "\n",
    "    # Append new entries to the list\n",
    "    new_entries = []\n",
    "    for index, file_name in enumerate(files):\n",
    "        base_filename = get_base_filename(file_name)\n",
    "        \n",
    "        new_entry = f\"{start_index + index},{base_filename},oct,/home/ipilab/simplemind-applications/oct_quick_start/galo_nifti/{file_name},/home/ipilab/simplemind-applications/oct_quick_start/segmentations\\n\"\n",
    "        new_entries.append(new_entry)\n",
    "\n",
    "    # Append new entries to the existing entries\n",
    "    entries.extend(new_entries)\n",
    "\n",
    "    # Write the updated entries back to the spreadsheet\n",
    "    with open(spreadsheet_path, 'w') as file:\n",
    "        file.writelines(entries)\n",
    "\n",
    "# Replace 'your_folder_path' and 'your_spreadsheet_path' with your actual folder and spreadsheet paths\n",
    "add_entries('/Users/seena/Downloads/OGImages/galo_nifti/', '/Users/seena/Documents/GitHub/AS-OCT/apt_train_list.csv')\n"
   ]
  },
  {
   "cell_type": "code",
   "execution_count": null,
   "metadata": {},
   "outputs": [],
   "source": []
  },
  {
   "cell_type": "code",
   "execution_count": null,
   "metadata": {},
   "outputs": [],
   "source": []
  }
 ],
 "metadata": {
  "kernelspec": {
   "display_name": "Python 3.9.13 ('miniForge3Env')",
   "language": "python",
   "name": "python3"
  },
  "language_info": {
   "codemirror_mode": {
    "name": "ipython",
    "version": 3
   },
   "file_extension": ".py",
   "mimetype": "text/x-python",
   "name": "python",
   "nbconvert_exporter": "python",
   "pygments_lexer": "ipython3",
   "version": "3.9.13"
  },
  "orig_nbformat": 4,
  "vscode": {
   "interpreter": {
    "hash": "0252dfb2c5cb6c3acde8ac097f9a560f6c8bc8b1de753166e92cf8778d80e6ce"
   }
  }
 },
 "nbformat": 4,
 "nbformat_minor": 2
}
