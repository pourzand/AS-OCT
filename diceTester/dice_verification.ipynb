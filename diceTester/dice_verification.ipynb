{
 "cells": [
  {
   "cell_type": "code",
   "execution_count": 12,
   "metadata": {},
   "outputs": [],
   "source": [
    "import io\n",
    "import base64\n",
    "import numpy as np\n",
    "import time\n",
    "import SimpleITK as sitk\n",
    "import sys\n",
    "import json\n",
    "\n",
    "import imageio\n",
    "import nibabel as nib\n",
    "import matplotlib.pyplot as plt\n",
    "import cv2\n",
    "\n"
   ]
  },
  {
   "cell_type": "code",
   "execution_count": 1,
   "metadata": {},
   "outputs": [],
   "source": [
    "def my_dice(img1_np,img2_np): \n",
    "    # print('image1(roi) dtype', type(img1))\n",
    "    # print('image2(inference) dtype', type(img2))\n",
    "\n",
    "    # convert to numpy array\n",
    "    # img1_np = np.array(img1)\n",
    "    # img2_np = np.array(img2)\n",
    "\n",
    "    # img2_bytes = img2_np.tobytes()\n",
    "    img1_float64 = img1_np.astype('float64')\n",
    "    intersection = np.logical_and(img1_float64, img2_np)\n",
    "\n",
    "    # print('image1(roi) converted dtype', type(img1_float64))\n",
    "\n",
    "    union = np.logical_or(img1_float64, img2_np) \n",
    "    dice = (2*np.sum(intersection))/(np.sum(union)+np.sum(intersection)) \n",
    "    return dice\n"
   ]
  },
  {
   "cell_type": "code",
   "execution_count": 34,
   "metadata": {},
   "outputs": [],
   "source": [
    "def binary_segmentation_from_png(png_path):\n",
    "    # Load PNG image\n",
    "    img = cv2.imread(png_path)\n",
    "    img_hsv = cv2.cvtColor(img, cv2.COLOR_BGR2HSV)\n",
    "\n",
    "    # Define the lower and upper HSV values for the red color\n",
    "    lower_red = np.array([0, 100, 100])\n",
    "    upper_red = np.array([10, 255, 255])\n",
    "\n",
    "    img_mask = cv2.inRange(img_hsv, lower_red, upper_red)\n",
    "\n",
    "    # Dimensions are slightly off by 1, so I add padding: ValueError: operands could not be broadcast together with shapes (1460,1714) (1459,1713) \n",
    "    img_mask_padded = np.pad(img_mask, ((0, 1), (0, 1)), mode='constant', constant_values=0)\n",
    "\n",
    "    \n",
    "    \n",
    "    return img_mask_padded\n",
    "\n",
    "# Specify the paths to the PNG and NIfTI files\n",
    "nii_path = 'SSA003_OS_Scan4_2.pngred.pngout_0000.nii.gz'\n",
    "png_path = 'SSA003_OS_Scan4_2_IRIS_a.png'\n",
    "\n",
    "# Load the binary segmentation from the PNG file\n",
    "png_binary_seg = binary_segmentation_from_png(png_path)\n",
    "\n",
    "# Load the binary segmentation from the NIfTI file\n",
    "nii_img = nib.load(nii_path)\n",
    "\n",
    "# Get NIfTI data\n",
    "# nii_data = nii_img.get_fdata()\n",
    "nii_data = nii_img.dataobj\n",
    "\n",
    "# Rotate NIfTI data 90 degrees to the right, to align with original image \n",
    "nii_data_rotated = np.rot90(nii_data, k=1, axes=(1, 0))\n",
    "\n",
    "# Mirror NIfTI data across the y-axis, to align with original image \n",
    "nii_data_mirrored = np.fliplr(nii_data_rotated)\n",
    "\n",
    "nii_binary_seg = np.squeeze(nii_data_mirrored)\n",
    "\n",
    "\n",
    "\n"
   ]
  },
  {
   "cell_type": "code",
   "execution_count": 35,
   "metadata": {},
   "outputs": [
    {
     "data": {
      "image/png": "[encoded data removed]",
      "text/plain": [
       "<Figure size 432x288 with 2 Axes>"
      ]
     },
     "metadata": {
      "needs_background": "light"
     },
     "output_type": "display_data"
    }
   ],
   "source": [
    "plt.subplot(1, 2, 1)\n",
    "plt.imshow(png_binary_seg, cmap='gray')\n",
    "plt.title('Red Segmentation (PNG)')\n",
    "plt.axis('off')\n",
    "\n",
    "plt.subplot(1, 2, 2)\n",
    "plt.imshow(nii_binary_seg, cmap='gray')\n",
    "plt.title('Binary Segmentation (NIfTI)')\n",
    "plt.axis('off')\n",
    "\n",
    "plt.show()"
   ]
  },
  {
   "cell_type": "code",
   "execution_count": 36,
   "metadata": {},
   "outputs": [
    {
     "name": "stdout",
     "output_type": "stream",
     "text": [
      "Dice Score: 1.0\n"
     ]
    }
   ],
   "source": [
    "dice_score = my_dice(nii_binary_seg, png_binary_seg)\n",
    "\n",
    "# Print the Dice score\n",
    "print(f\"Dice Score: {dice_score}\")"
   ]
  },
  {
   "cell_type": "code",
   "execution_count": null,
   "metadata": {},
   "outputs": [],
   "source": []
  }
 ],
 "metadata": {
  "kernelspec": {
   "display_name": "Python 3.9.13 ('miniForge3Env')",
   "language": "python",
   "name": "python3"
  },
  "language_info": {
   "codemirror_mode": {
    "name": "ipython",
    "version": 3
   },
   "file_extension": ".py",
   "mimetype": "text/x-python",
   "name": "python",
   "nbconvert_exporter": "python",
   "pygments_lexer": "ipython3",
   "version": "3.9.13"
  },
  "orig_nbformat": 4,
  "vscode": {
   "interpreter": {
    "hash": "0252dfb2c5cb6c3acde8ac097f9a560f6c8bc8b1de753166e92cf8778d80e6ce"
   }
  }
 },
 "nbformat": 4,
 "nbformat_minor": 2
}
