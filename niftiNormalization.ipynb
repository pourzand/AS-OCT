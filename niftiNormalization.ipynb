{
 "cells": [
  {
   "cell_type": "code",
   "execution_count": 1,
   "metadata": {},
   "outputs": [
    {
     "name": "stdout",
     "output_type": "stream",
     "text": [
      "Normalized and saved: segmentations/normalized_SSA002_OD_Scan2_7.pngred.pngout_0000.nii.gz\n",
      "Normalized and saved: segmentations/normalized_SSA006_OD_Scan2_4.pngblue.pngout_0000.nii.gz\n",
      "Normalized and saved: segmentations/normalized_SSA006_OD_Scan2_4.pngred.pngout_0000.nii.gz\n"
     ]
    }
   ],
   "source": [
    "import nibabel as nib\n",
    "import numpy as np\n",
    "import os\n",
    "\n",
    "def normalize_nifti_images(input_folder, output_folder):\n",
    "    # Create a new subfolder for normalized images\n",
    "    os.makedirs(output_folder, exist_ok=True)\n",
    "\n",
    "    # List all files in the input folder\n",
    "    files = os.listdir(input_folder)\n",
    "\n",
    "    for file in files:\n",
    "        if file.endswith('.nii.gz'):\n",
    "            input_file_path = os.path.join(input_folder, file)\n",
    "\n",
    "            # Load NIfTI image\n",
    "            img = nib.load(input_file_path)\n",
    "\n",
    "            # Get the image data as a NumPy array\n",
    "            img_data = img.get_fdata()\n",
    "\n",
    "            # Normalize pixel values to be between 0 and 1\n",
    "            normalized_data = img_data / 255.0\n",
    "\n",
    "            # Save the normalized image to the new subfolder\n",
    "            output_file_path = os.path.join(output_folder, file)\n",
    "            normalized_img = nib.Nifti1Image(normalized_data, img.affine)\n",
    "            nib.save(normalized_img, output_file_path)\n",
    "\n",
    "            print(f'Normalized and saved: {output_file_path}')\n",
    "\n",
    "# Replace 'your_folder_path' with the path to your folder containing NIfTI images\n",
    "normalize_nifti_images('segmentations','normalized')\n"
   ]
  },
  {
   "cell_type": "code",
   "execution_count": null,
   "metadata": {},
   "outputs": [],
   "source": []
  }
 ],
 "metadata": {
  "kernelspec": {
   "display_name": "Python 3.9.13 ('miniForge3Env')",
   "language": "python",
   "name": "python3"
  },
  "language_info": {
   "codemirror_mode": {
    "name": "ipython",
    "version": 3
   },
   "file_extension": ".py",
   "mimetype": "text/x-python",
   "name": "python",
   "nbconvert_exporter": "python",
   "pygments_lexer": "ipython3",
   "version": "3.9.13"
  },
  "orig_nbformat": 4,
  "vscode": {
   "interpreter": {
    "hash": "0252dfb2c5cb6c3acde8ac097f9a560f6c8bc8b1de753166e92cf8778d80e6ce"
   }
  }
 },
 "nbformat": 4,
 "nbformat_minor": 2
}
